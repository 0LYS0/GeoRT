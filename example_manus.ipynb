{
 "cells": [
  {
   "cell_type": "code",
   "execution_count": 1,
   "id": "41c606e8-d367-4b06-a178-1ec2ad1c9eeb",
   "metadata": {},
   "outputs": [],
   "source": [
    "%load_ext autoreload\n",
    "%autoreload 2\n",
    "\n",
    "import geort\n",
    "import time\n",
    "import numpy as np\n",
    "import matplotlib.pyplot as plt\n",
    "from IPython.display import clear_output\n",
    "\n",
    "from manus.manus_data_mqtt import GloveMQTTSubscriber"
   ]
  },
  {
   "cell_type": "code",
   "execution_count": 2,
   "id": "d2fae6ac-f192-47ef-b3a8-87e884e1061f",
   "metadata": {},
   "outputs": [],
   "source": [
    "class manus_geort_mocap:\n",
    "    def __init__(self):\n",
    "        self._manus_client = GloveMQTTSubscriber()\n",
    "        time.sleep(1)\n",
    "        # self._ data_indices = [0, 2, 3, 4, 5, 6, 7, 8, 9, 10, 11, 12, 13, 14, 15, 16]\n",
    "        \n",
    "    def get(self):\n",
    "        data_temp = np.array(self._manus_client._right_data[\"positions\"])\n",
    "        data = np.zeros_like(data_temp)\n",
    "        data[:,0] = -data_temp[:,1]\n",
    "        data[:,1] = -data_temp[:,0]\n",
    "        data[:,2] = +data_temp[:,2]\n",
    "        return data"
   ]
  },
  {
   "cell_type": "code",
   "execution_count": 3,
   "id": "c3121ac8-c444-4e36-b8e6-a24851424412",
   "metadata": {},
   "outputs": [
    {
     "name": "stdout",
     "output_type": "stream",
     "text": [
      "**** MQTT INFO ****\n",
      "Server IP (port): localhost (1883)\n",
      "connected OK\n"
     ]
    }
   ],
   "source": [
    "# Your data collection loop.\n",
    "mocap = manus_geort_mocap() # TODO(): your mocap system.\n",
    "                           # Define a mocap.get() method.\n",
    "                           # Apologies, you still have to do this..."
   ]
  },
  {
   "cell_type": "markdown",
   "id": "ab8d9262-95ac-456a-ac31-fcc52e264f3d",
   "metadata": {},
   "source": [
    "# Data collection"
   ]
  },
  {
   "cell_type": "code",
   "execution_count": 4,
   "id": "0ca516ca-efbe-42ea-82c1-b28524273abc",
   "metadata": {},
   "outputs": [
    {
     "name": "stdout",
     "output_type": "stream",
     "text": [
      "32.0 %\n"
     ]
    },
    {
     "ename": "KeyboardInterrupt",
     "evalue": "",
     "output_type": "error",
     "traceback": [
      "\u001b[0;31m---------------------------------------------------------------------------\u001b[0m",
      "\u001b[0;31mKeyboardInterrupt\u001b[0m                         Traceback (most recent call last)",
      "Cell \u001b[0;32mIn[4], line 11\u001b[0m\n\u001b[1;32m      8\u001b[0m hand_keypoint \u001b[38;5;241m=\u001b[39m mocap\u001b[38;5;241m.\u001b[39mget() \u001b[38;5;66;03m# mocap.get() return [N, 3] numpy array.\u001b[39;00m\n\u001b[1;32m      9\u001b[0m data\u001b[38;5;241m.\u001b[39mappend(hand_keypoint)\n\u001b[0;32m---> 11\u001b[0m \u001b[43mtime\u001b[49m\u001b[38;5;241;43m.\u001b[39;49m\u001b[43msleep\u001b[49m\u001b[43m(\u001b[49m\u001b[38;5;241;43m0.01\u001b[39;49m\u001b[43m)\u001b[49m            \u001b[38;5;66;03m# take a short break.\u001b[39;00m\n\u001b[1;32m     12\u001b[0m \u001b[38;5;28;01mif\u001b[39;00m (step\u001b[38;5;241m+\u001b[39m\u001b[38;5;241m1\u001b[39m)\u001b[38;5;241m%\u001b[39m\u001b[38;5;241m100\u001b[39m\u001b[38;5;241m==\u001b[39m\u001b[38;5;241m0\u001b[39m:\n\u001b[1;32m     13\u001b[0m     clear_output(wait\u001b[38;5;241m=\u001b[39m\u001b[38;5;28;01mTrue\u001b[39;00m)\n",
      "\u001b[0;31mKeyboardInterrupt\u001b[0m: "
     ]
    }
   ],
   "source": [
    "# Dataset Name\n",
    "data_output_name = \"human_LYS_right\" # TODO(): Specify a name for this (e.g. your name)\n",
    "\n",
    "data = []\n",
    "\n",
    "data_len = 5000\n",
    "for step in range(data_len):       # collect 5000 data points.\n",
    "    hand_keypoint = mocap.get() # mocap.get() return [N, 3] numpy array.\n",
    "    data.append(hand_keypoint)\n",
    "    \n",
    "    time.sleep(0.01)            # take a short break.\n",
    "    if (step+1)%100==0:\n",
    "        clear_output(wait=True)\n",
    "        print(f'{(step+1)/data_len * 100} %')\n",
    "\n",
    "# finish data collection.\n",
    "geort.save_human_data(data, data_output_name)"
   ]
  },
  {
   "cell_type": "markdown",
   "id": "fdb91f1c-e1f2-49f6-90ce-2c7a24ef6a8e",
   "metadata": {},
   "source": [
    "# Train"
   ]
  },
  {
   "cell_type": "code",
   "execution_count": 5,
   "id": "deabd189-dc68-48e9-bd1a-64909d5bd000",
   "metadata": {
    "scrolled": true
   },
   "outputs": [
    {
     "name": "stdout",
     "output_type": "stream",
     "text": [
      "User-to-Sim Joint [0, 1, 2, 3, 4, 5, 6, 7, 8, 9, 10, 11, 12, 13, 14, 15]\n",
      "Sim-to-User Joint [0, 1, 2, 3, 4, 5, 6, 7, 8, 9, 10, 11, 12, 13, 14, 15]\n",
      "[ 0.       -1.5708    0.        0.       -0.261799  0.        0.\n",
      "  0.       -0.261799  0.        0.        0.       -0.08      0.\n",
      "  0.        0.      ] [1.5708   0.15708  1.5708   1.5708   0.08     1.5708   1.5708   1.5708\n",
      " 0.261799 1.5708   1.5708   1.5708   0.261799 1.5708   1.5708   1.5708  ]\n",
      "0 thumb_joint_0 <sapien.core.pysapien.Joint object at 0x77b924f768f0> 0.0 1.5708\n",
      "1 thumb_joint_1 <sapien.core.pysapien.Joint object at 0x77b924f76930> -1.5708 0.15708\n",
      "2 thumb_joint_2 <sapien.core.pysapien.Joint object at 0x77b924f76970> 0.0 1.5708\n",
      "3 thumb_joint_3 <sapien.core.pysapien.Joint object at 0x77b924f769b0> 0.0 1.5708\n",
      "4 index_joint_0 <sapien.core.pysapien.Joint object at 0x77b924f769f0> -0.261799 0.08\n",
      "5 index_joint_1 <sapien.core.pysapien.Joint object at 0x77b924f76a30> 0.0 1.5708\n",
      "6 index_joint_2 <sapien.core.pysapien.Joint object at 0x77b924f76a70> 0.0 1.5708\n",
      "7 index_joint_3 <sapien.core.pysapien.Joint object at 0x77b924f76ab0> 0.0 1.5708\n",
      "8 middle_joint_0 <sapien.core.pysapien.Joint object at 0x77b924f76af0> -0.261799 0.261799\n",
      "9 middle_joint_1 <sapien.core.pysapien.Joint object at 0x77b924f76b30> 0.0 1.5708\n",
      "10 middle_joint_2 <sapien.core.pysapien.Joint object at 0x77b924f76b70> 0.0 1.5708\n",
      "11 middle_joint_3 <sapien.core.pysapien.Joint object at 0x77b924f76bb0> 0.0 1.5708\n",
      "12 ring_joint_0 <sapien.core.pysapien.Joint object at 0x77b924f76bf0> -0.08 0.261799\n",
      "13 ring_joint_1 <sapien.core.pysapien.Joint object at 0x77b924f76c30> 0.0 1.5708\n",
      "14 ring_joint_2 <sapien.core.pysapien.Joint object at 0x77b924f76c70> 0.0 1.5708\n",
      "15 ring_joint_3 <sapien.core.pysapien.Joint object at 0x77b924f76cb0> 0.0 1.5708\n",
      "Training with human data: /home/rnbmarch/Desktop/LYS/GeoRT/data/human_LYS_right.npy\n",
      "[[4, 5, 6, 7], [8, 9, 10, 11], [12, 13, 14, 15], [0, 1, 2, 3]]\n",
      "/home/rnbmarch/Desktop/LYS/GeoRT/./geort/trainer.py:175: FutureWarning: You are using `torch.load` with `weights_only=False` (the current default value), which uses the default pickle module implicitly. It is possible to construct malicious pickle data which will execute arbitrary code during unpickling (See https://github.com/pytorch/pytorch/blob/main/SECURITY.md#untrusted-models for more details). In a future release, the default value for `weights_only` will be flipped to `True`. This limits the functions that could be executed during unpickling. Arbitrary objects will no longer be allowed to be loaded via this mode unless they are explicitly allowlisted by the user via `torch.serialization.add_safe_globals`. We recommend you start setting `weights_only=True` for any use case where you don't have full control of the loaded file. Please open an issue on GitHub for any issues related to this experimental feature.\n",
      "  fk_model.load_state_dict(torch.load(fk_checkpoint_path))\n",
      "Keypoint Names ['index_tip_end', 'middle_tip_end', 'ring_tip_end', 'thumb_tip_end']\n",
      "Robot Keypoint index_tip_end: Human Id: 9\n",
      "Robot Keypoint middle_tip_end: Human Id: 14\n",
      "Robot Keypoint ring_tip_end: Human Id: 19\n",
      "Robot Keypoint thumb_tip_end: Human Id: 4\n",
      "Epoch 0 | Losses - Direction: -0.0420 - Chamfer: 0.0011 - Curvature: 3.5573e-07 - Collision: 0.0000e+00 - Pinch: 0.0283\n",
      "Epoch 1 | Losses - Direction: -0.3244 - Chamfer: 6.1381e-04 - Curvature: 2.9384e-07 - Collision: 0.0000e+00 - Pinch: 0.0036\n",
      "Epoch 2 | Losses - Direction: -0.5225 - Chamfer: 5.1069e-04 - Curvature: 1.8696e-07 - Collision: 0.0000e+00 - Pinch: 0.0025\n",
      "Epoch 3 | Losses - Direction: -0.6612 - Chamfer: 4.9052e-04 - Curvature: 1.2242e-07 - Collision: 0.0000e+00 - Pinch: 0.0019\n",
      "Epoch 4 | Losses - Direction: -0.7481 - Chamfer: 4.8892e-04 - Curvature: 1.0689e-07 - Collision: 0.0000e+00 - Pinch: 0.0020\n",
      "Epoch 5 | Losses - Direction: -0.7969 - Chamfer: 5.1247e-04 - Curvature: 8.9595e-08 - Collision: 0.0000e+00 - Pinch: 0.0012\n",
      "Epoch 6 | Losses - Direction: -0.8342 - Chamfer: 5.3697e-04 - Curvature: 7.5281e-08 - Collision: 0.0000e+00 - Pinch: 0.0011\n",
      "Epoch 7 | Losses - Direction: -0.8596 - Chamfer: 5.0525e-04 - Curvature: 7.1918e-08 - Collision: 0.0000e+00 - Pinch: 8.4005e-04\n",
      "Epoch 8 | Losses - Direction: -0.8790 - Chamfer: 4.9954e-04 - Curvature: 6.8024e-08 - Collision: 0.0000e+00 - Pinch: 7.7776e-04\n",
      "Epoch 9 | Losses - Direction: -0.8802 - Chamfer: 5.0897e-04 - Curvature: 6.5854e-08 - Collision: 0.0000e+00 - Pinch: 9.6704e-04\n",
      "Epoch 10 | Losses - Direction: -0.8915 - Chamfer: 4.9089e-04 - Curvature: 6.2317e-08 - Collision: 0.0000e+00 - Pinch: 6.6394e-04\n",
      "Epoch 11 | Losses - Direction: -0.8996 - Chamfer: 4.7982e-04 - Curvature: 6.3029e-08 - Collision: 0.0000e+00 - Pinch: 8.7883e-04\n",
      "Epoch 12 | Losses - Direction: -0.9031 - Chamfer: 4.7867e-04 - Curvature: 5.9254e-08 - Collision: 0.0000e+00 - Pinch: 8.6225e-04\n",
      "Epoch 13 | Losses - Direction: -0.9085 - Chamfer: 4.5184e-04 - Curvature: 5.5479e-08 - Collision: 0.0000e+00 - Pinch: 8.4150e-04\n",
      "Epoch 14 | Losses - Direction: -0.9081 - Chamfer: 4.5577e-04 - Curvature: 5.5224e-08 - Collision: 0.0000e+00 - Pinch: 8.2652e-04\n",
      "Epoch 15 | Losses - Direction: -0.9129 - Chamfer: 4.7170e-04 - Curvature: 5.6673e-08 - Collision: 0.0000e+00 - Pinch: 6.8994e-04\n",
      "Epoch 16 | Losses - Direction: -0.9154 - Chamfer: 4.6106e-04 - Curvature: 5.2632e-08 - Collision: 0.0000e+00 - Pinch: 7.7255e-04\n",
      "Epoch 17 | Losses - Direction: -0.9163 - Chamfer: 4.9577e-04 - Curvature: 5.0134e-08 - Collision: 0.0000e+00 - Pinch: 6.2435e-04\n",
      "Epoch 18 | Losses - Direction: -0.9206 - Chamfer: 4.5290e-04 - Curvature: 5.2664e-08 - Collision: 0.0000e+00 - Pinch: 7.3132e-04\n",
      "Epoch 19 | Losses - Direction: -0.9192 - Chamfer: 4.5120e-04 - Curvature: 5.3075e-08 - Collision: 0.0000e+00 - Pinch: 8.7579e-04\n",
      "Epoch 20 | Losses - Direction: -0.9183 - Chamfer: 4.5057e-04 - Curvature: 5.0489e-08 - Collision: 0.0000e+00 - Pinch: 8.4101e-04\n",
      "Epoch 21 | Losses - Direction: -0.9247 - Chamfer: 4.6043e-04 - Curvature: 4.9592e-08 - Collision: 0.0000e+00 - Pinch: 7.2439e-04\n",
      "Epoch 22 | Losses - Direction: -0.9249 - Chamfer: 4.2755e-04 - Curvature: 5.1110e-08 - Collision: 0.0000e+00 - Pinch: 8.4830e-04\n",
      "Epoch 23 | Losses - Direction: -0.9252 - Chamfer: 4.4599e-04 - Curvature: 5.1044e-08 - Collision: 0.0000e+00 - Pinch: 4.8869e-04\n",
      "Epoch 24 | Losses - Direction: -0.9260 - Chamfer: 4.4712e-04 - Curvature: 5.0097e-08 - Collision: 0.0000e+00 - Pinch: 6.8957e-04\n",
      "Epoch 25 | Losses - Direction: -0.9274 - Chamfer: 4.2928e-04 - Curvature: 4.9548e-08 - Collision: 0.0000e+00 - Pinch: 8.1232e-04\n",
      "Epoch 26 | Losses - Direction: -0.9295 - Chamfer: 4.5615e-04 - Curvature: 4.9865e-08 - Collision: 0.0000e+00 - Pinch: 0.0011\n",
      "Epoch 27 | Losses - Direction: -0.9291 - Chamfer: 4.2783e-04 - Curvature: 5.1305e-08 - Collision: 0.0000e+00 - Pinch: 5.6277e-04\n",
      "Epoch 28 | Losses - Direction: -0.9293 - Chamfer: 4.2417e-04 - Curvature: 4.6215e-08 - Collision: 0.0000e+00 - Pinch: 6.5357e-04\n",
      "Epoch 29 | Losses - Direction: -0.9313 - Chamfer: 4.2713e-04 - Curvature: 4.7281e-08 - Collision: 0.0000e+00 - Pinch: 7.0425e-04\n",
      "Epoch 30 | Losses - Direction: -0.9305 - Chamfer: 4.3331e-04 - Curvature: 4.8566e-08 - Collision: 0.0000e+00 - Pinch: 5.9853e-04\n",
      "Epoch 31 | Losses - Direction: -0.9312 - Chamfer: 4.1548e-04 - Curvature: 4.9700e-08 - Collision: 0.0000e+00 - Pinch: 6.0563e-04\n",
      "Epoch 32 | Losses - Direction: -0.9292 - Chamfer: 4.1608e-04 - Curvature: 4.6790e-08 - Collision: 0.0000e+00 - Pinch: 6.6840e-04\n",
      "Epoch 33 | Losses - Direction: -0.9300 - Chamfer: 4.1030e-04 - Curvature: 4.5919e-08 - Collision: 0.0000e+00 - Pinch: 0.0010\n",
      "Epoch 34 | Losses - Direction: -0.9316 - Chamfer: 4.2980e-04 - Curvature: 4.8085e-08 - Collision: 0.0000e+00 - Pinch: 7.8309e-04\n",
      "Epoch 35 | Losses - Direction: -0.9329 - Chamfer: 4.1623e-04 - Curvature: 4.5724e-08 - Collision: 0.0000e+00 - Pinch: 5.8674e-04\n",
      "Epoch 36 | Losses - Direction: -0.9343 - Chamfer: 4.0137e-04 - Curvature: 4.5688e-08 - Collision: 0.0000e+00 - Pinch: 6.1029e-04\n",
      "Epoch 37 | Losses - Direction: -0.9348 - Chamfer: 3.9719e-04 - Curvature: 4.6766e-08 - Collision: 0.0000e+00 - Pinch: 7.1019e-04\n",
      "Epoch 38 | Losses - Direction: -0.9361 - Chamfer: 4.0264e-04 - Curvature: 4.5334e-08 - Collision: 0.0000e+00 - Pinch: 0.0012\n",
      "Epoch 39 | Losses - Direction: -0.9350 - Chamfer: 4.1013e-04 - Curvature: 4.4526e-08 - Collision: 0.0000e+00 - Pinch: 8.6744e-04\n",
      "Epoch 40 | Losses - Direction: -0.9369 - Chamfer: 4.1146e-04 - Curvature: 4.3697e-08 - Collision: 0.0000e+00 - Pinch: 6.1023e-04\n",
      "Epoch 41 | Losses - Direction: -0.9358 - Chamfer: 4.0757e-04 - Curvature: 4.3609e-08 - Collision: 0.0000e+00 - Pinch: 4.9816e-04\n",
      "Epoch 42 | Losses - Direction: -0.9372 - Chamfer: 4.0047e-04 - Curvature: 4.3284e-08 - Collision: 0.0000e+00 - Pinch: 4.7806e-04\n",
      "Epoch 43 | Losses - Direction: -0.9373 - Chamfer: 4.0751e-04 - Curvature: 4.7117e-08 - Collision: 0.0000e+00 - Pinch: 4.7680e-04\n",
      "Epoch 44 | Losses - Direction: -0.9388 - Chamfer: 3.9421e-04 - Curvature: 4.3941e-08 - Collision: 0.0000e+00 - Pinch: 5.1711e-04\n",
      "Epoch 45 | Losses - Direction: -0.9386 - Chamfer: 4.1238e-04 - Curvature: 4.1512e-08 - Collision: 0.0000e+00 - Pinch: 6.3496e-04\n",
      "Epoch 46 | Losses - Direction: -0.9373 - Chamfer: 4.0612e-04 - Curvature: 4.0950e-08 - Collision: 0.0000e+00 - Pinch: 9.2288e-04\n",
      "Epoch 47 | Losses - Direction: -0.9369 - Chamfer: 3.9657e-04 - Curvature: 4.2298e-08 - Collision: 0.0000e+00 - Pinch: 5.2373e-04\n",
      "Epoch 48 | Losses - Direction: -0.9374 - Chamfer: 3.9363e-04 - Curvature: 4.2754e-08 - Collision: 0.0000e+00 - Pinch: 6.4167e-04\n",
      "Epoch 49 | Losses - Direction: -0.9387 - Chamfer: 4.0839e-04 - Curvature: 4.2492e-08 - Collision: 0.0000e+00 - Pinch: 6.6041e-04\n",
      "Epoch 50 | Losses - Direction: -0.9373 - Chamfer: 3.9719e-04 - Curvature: 4.4284e-08 - Collision: 0.0000e+00 - Pinch: 6.1498e-04\n",
      "Epoch 51 | Losses - Direction: -0.9422 - Chamfer: 4.0651e-04 - Curvature: 3.8940e-08 - Collision: 0.0000e+00 - Pinch: 6.1154e-04\n",
      "Epoch 52 | Losses - Direction: -0.9402 - Chamfer: 3.9494e-04 - Curvature: 4.3132e-08 - Collision: 0.0000e+00 - Pinch: 6.2456e-04\n",
      "Epoch 53 | Losses - Direction: -0.9387 - Chamfer: 3.8898e-04 - Curvature: 4.4088e-08 - Collision: 0.0000e+00 - Pinch: 7.1298e-04\n",
      "Epoch 54 | Losses - Direction: -0.9418 - Chamfer: 3.8196e-04 - Curvature: 4.3594e-08 - Collision: 0.0000e+00 - Pinch: 6.8513e-04\n",
      "Epoch 55 | Losses - Direction: -0.9408 - Chamfer: 3.9493e-04 - Curvature: 4.2582e-08 - Collision: 0.0000e+00 - Pinch: 7.9884e-04\n",
      "Epoch 56 | Losses - Direction: -0.9381 - Chamfer: 3.9530e-04 - Curvature: 4.4555e-08 - Collision: 0.0000e+00 - Pinch: 9.5771e-04\n",
      "Epoch 57 | Losses - Direction: -0.9400 - Chamfer: 4.0135e-04 - Curvature: 4.2414e-08 - Collision: 0.0000e+00 - Pinch: 5.5641e-04\n",
      "Epoch 58 | Losses - Direction: -0.9409 - Chamfer: 3.9238e-04 - Curvature: 4.2397e-08 - Collision: 0.0000e+00 - Pinch: 0.0010\n",
      "Epoch 59 | Losses - Direction: -0.9421 - Chamfer: 3.9787e-04 - Curvature: 4.0617e-08 - Collision: 0.0000e+00 - Pinch: 8.1141e-04\n",
      "Epoch 60 | Losses - Direction: -0.9430 - Chamfer: 3.9164e-04 - Curvature: 4.0607e-08 - Collision: 0.0000e+00 - Pinch: 6.4436e-04\n",
      "Epoch 61 | Losses - Direction: -0.9401 - Chamfer: 3.8569e-04 - Curvature: 4.1539e-08 - Collision: 0.0000e+00 - Pinch: 6.2126e-04\n",
      "Epoch 62 | Losses - Direction: -0.9430 - Chamfer: 3.7328e-04 - Curvature: 4.3627e-08 - Collision: 0.0000e+00 - Pinch: 7.1305e-04\n",
      "Epoch 63 | Losses - Direction: -0.9389 - Chamfer: 3.9267e-04 - Curvature: 4.2140e-08 - Collision: 0.0000e+00 - Pinch: 7.1221e-04\n",
      "Epoch 64 | Losses - Direction: -0.9412 - Chamfer: 3.8067e-04 - Curvature: 4.2844e-08 - Collision: 0.0000e+00 - Pinch: 7.1261e-04\n",
      "Epoch 65 | Losses - Direction: -0.9455 - Chamfer: 3.7246e-04 - Curvature: 3.9547e-08 - Collision: 0.0000e+00 - Pinch: 6.1707e-04\n",
      "Epoch 66 | Losses - Direction: -0.9430 - Chamfer: 3.9250e-04 - Curvature: 4.0743e-08 - Collision: 0.0000e+00 - Pinch: 8.1568e-04\n",
      "Epoch 67 | Losses - Direction: -0.9437 - Chamfer: 3.7697e-04 - Curvature: 4.3604e-08 - Collision: 0.0000e+00 - Pinch: 7.0194e-04\n",
      "Epoch 68 | Losses - Direction: -0.9445 - Chamfer: 3.9102e-04 - Curvature: 3.9418e-08 - Collision: 0.0000e+00 - Pinch: 8.6179e-04\n",
      "Epoch 69 | Losses - Direction: -0.9441 - Chamfer: 3.8009e-04 - Curvature: 4.2511e-08 - Collision: 0.0000e+00 - Pinch: 4.9705e-04\n",
      "Epoch 70 | Losses - Direction: -0.9427 - Chamfer: 3.9707e-04 - Curvature: 4.1316e-08 - Collision: 0.0000e+00 - Pinch: 6.4350e-04\n",
      "Epoch 71 | Losses - Direction: -0.9439 - Chamfer: 3.8394e-04 - Curvature: 4.4423e-08 - Collision: 0.0000e+00 - Pinch: 8.7511e-04\n",
      "Epoch 72 | Losses - Direction: -0.9438 - Chamfer: 3.8393e-04 - Curvature: 4.2448e-08 - Collision: 0.0000e+00 - Pinch: 7.0967e-04\n",
      "Epoch 73 | Losses - Direction: -0.9440 - Chamfer: 3.8475e-04 - Curvature: 4.2178e-08 - Collision: 0.0000e+00 - Pinch: 4.9071e-04\n",
      "Epoch 74 | Losses - Direction: -0.9414 - Chamfer: 3.8723e-04 - Curvature: 4.2198e-08 - Collision: 0.0000e+00 - Pinch: 6.8709e-04\n",
      "Epoch 75 | Losses - Direction: -0.9455 - Chamfer: 3.9052e-04 - Curvature: 4.3967e-08 - Collision: 0.0000e+00 - Pinch: 7.3072e-04\n",
      "Epoch 76 | Losses - Direction: -0.9417 - Chamfer: 4.0269e-04 - Curvature: 4.2006e-08 - Collision: 0.0000e+00 - Pinch: 5.9520e-04\n",
      "Epoch 77 | Losses - Direction: -0.9459 - Chamfer: 3.7235e-04 - Curvature: 4.4014e-08 - Collision: 0.0000e+00 - Pinch: 8.7380e-04\n",
      "Epoch 78 | Losses - Direction: -0.9426 - Chamfer: 3.7425e-04 - Curvature: 4.3194e-08 - Collision: 0.0000e+00 - Pinch: 7.1028e-04\n",
      "Epoch 79 | Losses - Direction: -0.9429 - Chamfer: 3.8290e-04 - Curvature: 4.2660e-08 - Collision: 0.0000e+00 - Pinch: 6.5648e-04\n",
      "Epoch 80 | Losses - Direction: -0.9435 - Chamfer: 3.7449e-04 - Curvature: 4.1897e-08 - Collision: 0.0000e+00 - Pinch: 6.0987e-04\n",
      "Epoch 81 | Losses - Direction: -0.9463 - Chamfer: 3.7903e-04 - Curvature: 4.5557e-08 - Collision: 0.0000e+00 - Pinch: 6.8610e-04\n",
      "Epoch 82 | Losses - Direction: -0.9425 - Chamfer: 3.9256e-04 - Curvature: 4.5508e-08 - Collision: 0.0000e+00 - Pinch: 5.6198e-04\n",
      "Epoch 83 | Losses - Direction: -0.9461 - Chamfer: 3.9205e-04 - Curvature: 4.3266e-08 - Collision: 0.0000e+00 - Pinch: 8.5182e-04\n",
      "Epoch 84 | Losses - Direction: -0.9452 - Chamfer: 3.9181e-04 - Curvature: 4.4860e-08 - Collision: 0.0000e+00 - Pinch: 5.8088e-04\n",
      "Epoch 85 | Losses - Direction: -0.9443 - Chamfer: 3.8128e-04 - Curvature: 4.5024e-08 - Collision: 0.0000e+00 - Pinch: 5.4738e-04\n",
      "Epoch 86 | Losses - Direction: -0.9450 - Chamfer: 3.8048e-04 - Curvature: 3.9693e-08 - Collision: 0.0000e+00 - Pinch: 4.3526e-04\n",
      "Epoch 87 | Losses - Direction: -0.9445 - Chamfer: 3.8285e-04 - Curvature: 4.2496e-08 - Collision: 0.0000e+00 - Pinch: 6.0210e-04\n",
      "Epoch 88 | Losses - Direction: -0.9450 - Chamfer: 3.8637e-04 - Curvature: 4.3288e-08 - Collision: 0.0000e+00 - Pinch: 5.7004e-04\n",
      "Epoch 89 | Losses - Direction: -0.9472 - Chamfer: 3.8769e-04 - Curvature: 4.2565e-08 - Collision: 0.0000e+00 - Pinch: 7.9019e-04\n",
      "Epoch 90 | Losses - Direction: -0.9464 - Chamfer: 3.9207e-04 - Curvature: 4.3196e-08 - Collision: 0.0000e+00 - Pinch: 6.3728e-04\n",
      "Epoch 91 | Losses - Direction: -0.9471 - Chamfer: 3.7044e-04 - Curvature: 4.1472e-08 - Collision: 0.0000e+00 - Pinch: 6.2060e-04\n",
      "Epoch 92 | Losses - Direction: -0.9463 - Chamfer: 3.6449e-04 - Curvature: 4.3729e-08 - Collision: 0.0000e+00 - Pinch: 6.5331e-04\n",
      "Epoch 93 | Losses - Direction: -0.9460 - Chamfer: 3.7568e-04 - Curvature: 4.3956e-08 - Collision: 0.0000e+00 - Pinch: 6.4208e-04\n",
      "Epoch 94 | Losses - Direction: -0.9465 - Chamfer: 3.8787e-04 - Curvature: 4.1909e-08 - Collision: 0.0000e+00 - Pinch: 7.0129e-04\n",
      "Epoch 95 | Losses - Direction: -0.9485 - Chamfer: 3.8714e-04 - Curvature: 4.5500e-08 - Collision: 0.0000e+00 - Pinch: 5.6950e-04\n",
      "Epoch 96 | Losses - Direction: -0.9455 - Chamfer: 3.7557e-04 - Curvature: 4.7445e-08 - Collision: 0.0000e+00 - Pinch: 7.6641e-04\n",
      "Epoch 97 | Losses - Direction: -0.9464 - Chamfer: 3.7661e-04 - Curvature: 4.3295e-08 - Collision: 0.0000e+00 - Pinch: 7.4362e-04\n",
      "Epoch 98 | Losses - Direction: -0.9447 - Chamfer: 3.7385e-04 - Curvature: 4.2212e-08 - Collision: 0.0000e+00 - Pinch: 6.4908e-04\n",
      "Epoch 99 | Losses - Direction: -0.9457 - Chamfer: 3.7575e-04 - Curvature: 4.4997e-08 - Collision: 0.0000e+00 - Pinch: 5.8324e-04\n",
      "Epoch 100 | Losses - Direction: -0.9479 - Chamfer: 4.0517e-04 - Curvature: 4.3138e-08 - Collision: 0.0000e+00 - Pinch: 5.1594e-04\n",
      "Epoch 101 | Losses - Direction: -0.9444 - Chamfer: 3.7910e-04 - Curvature: 4.4477e-08 - Collision: 0.0000e+00 - Pinch: 5.2734e-04\n",
      "Epoch 102 | Losses - Direction: -0.9451 - Chamfer: 3.6273e-04 - Curvature: 4.2473e-08 - Collision: 0.0000e+00 - Pinch: 6.7209e-04\n",
      "Epoch 103 | Losses - Direction: -0.9469 - Chamfer: 3.8187e-04 - Curvature: 4.5089e-08 - Collision: 0.0000e+00 - Pinch: 5.4912e-04\n",
      "Epoch 104 | Losses - Direction: -0.9448 - Chamfer: 3.8371e-04 - Curvature: 4.3683e-08 - Collision: 0.0000e+00 - Pinch: 5.2690e-04\n",
      "Epoch 105 | Losses - Direction: -0.9493 - Chamfer: 3.7468e-04 - Curvature: 4.5730e-08 - Collision: 0.0000e+00 - Pinch: 5.6220e-04\n",
      "Epoch 106 | Losses - Direction: -0.9466 - Chamfer: 3.9260e-04 - Curvature: 4.6323e-08 - Collision: 0.0000e+00 - Pinch: 6.3837e-04\n",
      "Epoch 107 | Losses - Direction: -0.9470 - Chamfer: 3.8730e-04 - Curvature: 4.4297e-08 - Collision: 0.0000e+00 - Pinch: 5.0267e-04\n",
      "Epoch 108 | Losses - Direction: -0.9465 - Chamfer: 3.6935e-04 - Curvature: 4.3950e-08 - Collision: 0.0000e+00 - Pinch: 8.7507e-04\n",
      "Epoch 109 | Losses - Direction: -0.9479 - Chamfer: 3.7476e-04 - Curvature: 4.4890e-08 - Collision: 0.0000e+00 - Pinch: 7.2586e-04\n",
      "Epoch 110 | Losses - Direction: -0.9481 - Chamfer: 3.8331e-04 - Curvature: 4.4837e-08 - Collision: 0.0000e+00 - Pinch: 5.7284e-04\n",
      "Epoch 111 | Losses - Direction: -0.9495 - Chamfer: 3.6602e-04 - Curvature: 4.4886e-08 - Collision: 0.0000e+00 - Pinch: 5.1034e-04\n",
      "Epoch 112 | Losses - Direction: -0.9477 - Chamfer: 3.6873e-04 - Curvature: 4.4307e-08 - Collision: 0.0000e+00 - Pinch: 4.7973e-04\n",
      "Epoch 113 | Losses - Direction: -0.9474 - Chamfer: 3.9194e-04 - Curvature: 4.6712e-08 - Collision: 0.0000e+00 - Pinch: 4.3272e-04\n",
      "Epoch 114 | Losses - Direction: -0.9508 - Chamfer: 3.6605e-04 - Curvature: 4.7065e-08 - Collision: 0.0000e+00 - Pinch: 4.9749e-04\n",
      "Epoch 115 | Losses - Direction: -0.9490 - Chamfer: 3.9172e-04 - Curvature: 4.2328e-08 - Collision: 0.0000e+00 - Pinch: 4.7893e-04\n",
      "Epoch 116 | Losses - Direction: -0.9486 - Chamfer: 3.6328e-04 - Curvature: 4.8602e-08 - Collision: 0.0000e+00 - Pinch: 5.1860e-04\n",
      "Epoch 117 | Losses - Direction: -0.9487 - Chamfer: 3.8377e-04 - Curvature: 4.8743e-08 - Collision: 0.0000e+00 - Pinch: 5.6494e-04\n",
      "Epoch 118 | Losses - Direction: -0.9480 - Chamfer: 3.6060e-04 - Curvature: 4.4896e-08 - Collision: 0.0000e+00 - Pinch: 5.9129e-04\n",
      "Epoch 119 | Losses - Direction: -0.9473 - Chamfer: 3.6476e-04 - Curvature: 4.2749e-08 - Collision: 0.0000e+00 - Pinch: 5.9191e-04\n",
      "Epoch 120 | Losses - Direction: -0.9485 - Chamfer: 3.6302e-04 - Curvature: 4.4981e-08 - Collision: 0.0000e+00 - Pinch: 9.1829e-04\n",
      "Epoch 121 | Losses - Direction: -0.9503 - Chamfer: 3.6840e-04 - Curvature: 4.4864e-08 - Collision: 0.0000e+00 - Pinch: 5.5630e-04\n",
      "Epoch 122 | Losses - Direction: -0.9487 - Chamfer: 3.7436e-04 - Curvature: 4.6223e-08 - Collision: 0.0000e+00 - Pinch: 6.5895e-04\n",
      "Epoch 123 | Losses - Direction: -0.9485 - Chamfer: 3.7710e-04 - Curvature: 4.7045e-08 - Collision: 0.0000e+00 - Pinch: 7.8814e-04\n",
      "Epoch 124 | Losses - Direction: -0.9503 - Chamfer: 3.6603e-04 - Curvature: 4.4341e-08 - Collision: 0.0000e+00 - Pinch: 6.0134e-04\n",
      "Epoch 125 | Losses - Direction: -0.9474 - Chamfer: 3.9023e-04 - Curvature: 4.9147e-08 - Collision: 0.0000e+00 - Pinch: 5.8950e-04\n",
      "Epoch 126 | Losses - Direction: -0.9472 - Chamfer: 3.8421e-04 - Curvature: 4.4244e-08 - Collision: 0.0000e+00 - Pinch: 5.7847e-04\n",
      "Epoch 127 | Losses - Direction: -0.9473 - Chamfer: 3.7039e-04 - Curvature: 4.2860e-08 - Collision: 0.0000e+00 - Pinch: 6.2349e-04\n",
      "Epoch 128 | Losses - Direction: -0.9484 - Chamfer: 3.9142e-04 - Curvature: 4.6164e-08 - Collision: 0.0000e+00 - Pinch: 5.0841e-04\n",
      "Epoch 129 | Losses - Direction: -0.9498 - Chamfer: 3.7898e-04 - Curvature: 4.5600e-08 - Collision: 0.0000e+00 - Pinch: 6.0718e-04\n",
      "Epoch 130 | Losses - Direction: -0.9498 - Chamfer: 3.4637e-04 - Curvature: 4.6383e-08 - Collision: 0.0000e+00 - Pinch: 5.6990e-04\n",
      "Epoch 131 | Losses - Direction: -0.9506 - Chamfer: 3.5799e-04 - Curvature: 4.5931e-08 - Collision: 0.0000e+00 - Pinch: 0.0012\n",
      "Epoch 132 | Losses - Direction: -0.9491 - Chamfer: 3.5081e-04 - Curvature: 4.7938e-08 - Collision: 0.0000e+00 - Pinch: 5.5254e-04\n",
      "Epoch 133 | Losses - Direction: -0.9495 - Chamfer: 3.4771e-04 - Curvature: 4.6947e-08 - Collision: 0.0000e+00 - Pinch: 6.0682e-04\n",
      "Epoch 134 | Losses - Direction: -0.9474 - Chamfer: 3.6532e-04 - Curvature: 4.8572e-08 - Collision: 0.0000e+00 - Pinch: 6.7999e-04\n",
      "Epoch 135 | Losses - Direction: -0.9501 - Chamfer: 3.7119e-04 - Curvature: 4.7484e-08 - Collision: 0.0000e+00 - Pinch: 5.4696e-04\n",
      "Epoch 136 | Losses - Direction: -0.9500 - Chamfer: 3.7052e-04 - Curvature: 4.3338e-08 - Collision: 0.0000e+00 - Pinch: 7.0186e-04\n",
      "Epoch 137 | Losses - Direction: -0.9504 - Chamfer: 3.5826e-04 - Curvature: 4.6926e-08 - Collision: 0.0000e+00 - Pinch: 6.6170e-04\n",
      "Epoch 138 | Losses - Direction: -0.9507 - Chamfer: 3.5537e-04 - Curvature: 4.6727e-08 - Collision: 0.0000e+00 - Pinch: 9.3215e-04\n",
      "Epoch 139 | Losses - Direction: -0.9510 - Chamfer: 3.7270e-04 - Curvature: 4.4612e-08 - Collision: 0.0000e+00 - Pinch: 5.9335e-04\n",
      "Epoch 140 | Losses - Direction: -0.9481 - Chamfer: 3.5122e-04 - Curvature: 4.4683e-08 - Collision: 0.0000e+00 - Pinch: 5.4394e-04\n",
      "Epoch 141 | Losses - Direction: -0.9518 - Chamfer: 3.6090e-04 - Curvature: 4.5465e-08 - Collision: 0.0000e+00 - Pinch: 6.3590e-04\n",
      "Epoch 142 | Losses - Direction: -0.9504 - Chamfer: 3.7528e-04 - Curvature: 5.2461e-08 - Collision: 0.0000e+00 - Pinch: 5.7035e-04\n",
      "Epoch 143 | Losses - Direction: -0.9493 - Chamfer: 3.5597e-04 - Curvature: 4.9044e-08 - Collision: 0.0000e+00 - Pinch: 4.7613e-04\n",
      "Epoch 144 | Losses - Direction: -0.9501 - Chamfer: 3.6696e-04 - Curvature: 4.7851e-08 - Collision: 0.0000e+00 - Pinch: 6.0443e-04\n",
      "Epoch 145 | Losses - Direction: -0.9493 - Chamfer: 3.5136e-04 - Curvature: 4.6100e-08 - Collision: 0.0000e+00 - Pinch: 5.0363e-04\n",
      "Epoch 146 | Losses - Direction: -0.9528 - Chamfer: 3.6702e-04 - Curvature: 4.9155e-08 - Collision: 0.0000e+00 - Pinch: 4.9702e-04\n",
      "Epoch 147 | Losses - Direction: -0.9513 - Chamfer: 3.6607e-04 - Curvature: 4.6525e-08 - Collision: 0.0000e+00 - Pinch: 5.2713e-04\n",
      "Epoch 148 | Losses - Direction: -0.9466 - Chamfer: 3.6706e-04 - Curvature: 4.9421e-08 - Collision: 0.0000e+00 - Pinch: 5.5428e-04\n",
      "Epoch 149 | Losses - Direction: -0.9487 - Chamfer: 3.8683e-04 - Curvature: 4.5661e-08 - Collision: 0.0000e+00 - Pinch: 4.4740e-04\n",
      "Epoch 150 | Losses - Direction: -0.9482 - Chamfer: 3.7621e-04 - Curvature: 5.0371e-08 - Collision: 0.0000e+00 - Pinch: 8.9198e-04\n",
      "Epoch 151 | Losses - Direction: -0.9489 - Chamfer: 3.8831e-04 - Curvature: 4.7234e-08 - Collision: 0.0000e+00 - Pinch: 5.4321e-04\n",
      "Epoch 152 | Losses - Direction: -0.9513 - Chamfer: 3.6078e-04 - Curvature: 4.7364e-08 - Collision: 0.0000e+00 - Pinch: 4.7690e-04\n",
      "Epoch 153 | Losses - Direction: -0.9494 - Chamfer: 3.4994e-04 - Curvature: 4.4930e-08 - Collision: 0.0000e+00 - Pinch: 6.0847e-04\n",
      "Epoch 154 | Losses - Direction: -0.9521 - Chamfer: 3.6038e-04 - Curvature: 4.6402e-08 - Collision: 0.0000e+00 - Pinch: 5.7724e-04\n",
      "Epoch 155 | Losses - Direction: -0.9494 - Chamfer: 3.6615e-04 - Curvature: 5.3159e-08 - Collision: 0.0000e+00 - Pinch: 4.9842e-04\n",
      "Epoch 156 | Losses - Direction: -0.9522 - Chamfer: 3.6283e-04 - Curvature: 4.4091e-08 - Collision: 0.0000e+00 - Pinch: 8.4547e-04\n",
      "Epoch 157 | Losses - Direction: -0.9525 - Chamfer: 3.4695e-04 - Curvature: 5.0831e-08 - Collision: 0.0000e+00 - Pinch: 5.8608e-04\n",
      "Epoch 158 | Losses - Direction: -0.9519 - Chamfer: 3.6082e-04 - Curvature: 4.9571e-08 - Collision: 0.0000e+00 - Pinch: 5.7938e-04\n",
      "Epoch 159 | Losses - Direction: -0.9500 - Chamfer: 3.4888e-04 - Curvature: 5.1212e-08 - Collision: 0.0000e+00 - Pinch: 5.5374e-04\n",
      "Epoch 160 | Losses - Direction: -0.9509 - Chamfer: 3.5181e-04 - Curvature: 4.6543e-08 - Collision: 0.0000e+00 - Pinch: 6.3135e-04\n",
      "Epoch 161 | Losses - Direction: -0.9514 - Chamfer: 3.4268e-04 - Curvature: 5.1147e-08 - Collision: 0.0000e+00 - Pinch: 5.3600e-04\n",
      "Epoch 162 | Losses - Direction: -0.9480 - Chamfer: 3.5343e-04 - Curvature: 5.3738e-08 - Collision: 0.0000e+00 - Pinch: 9.1749e-04\n",
      "Epoch 163 | Losses - Direction: -0.9529 - Chamfer: 3.8066e-04 - Curvature: 4.8070e-08 - Collision: 0.0000e+00 - Pinch: 3.8008e-04\n",
      "Epoch 164 | Losses - Direction: -0.9508 - Chamfer: 3.4831e-04 - Curvature: 4.8119e-08 - Collision: 0.0000e+00 - Pinch: 5.5537e-04\n",
      "Epoch 165 | Losses - Direction: -0.9507 - Chamfer: 3.6412e-04 - Curvature: 4.6233e-08 - Collision: 0.0000e+00 - Pinch: 4.6442e-04\n",
      "Epoch 166 | Losses - Direction: -0.9505 - Chamfer: 3.5087e-04 - Curvature: 5.2557e-08 - Collision: 0.0000e+00 - Pinch: 8.0456e-04\n",
      "Epoch 167 | Losses - Direction: -0.9521 - Chamfer: 3.4385e-04 - Curvature: 4.7341e-08 - Collision: 0.0000e+00 - Pinch: 6.0658e-04\n",
      "Epoch 168 | Losses - Direction: -0.9525 - Chamfer: 3.7909e-04 - Curvature: 4.7721e-08 - Collision: 0.0000e+00 - Pinch: 5.1002e-04\n",
      "Epoch 169 | Losses - Direction: -0.9528 - Chamfer: 3.5083e-04 - Curvature: 4.7403e-08 - Collision: 0.0000e+00 - Pinch: 6.2593e-04\n",
      "Epoch 170 | Losses - Direction: -0.9500 - Chamfer: 3.5419e-04 - Curvature: 4.6819e-08 - Collision: 0.0000e+00 - Pinch: 7.4604e-04\n",
      "Epoch 171 | Losses - Direction: -0.9510 - Chamfer: 3.6281e-04 - Curvature: 4.9384e-08 - Collision: 0.0000e+00 - Pinch: 6.1495e-04\n",
      "Epoch 172 | Losses - Direction: -0.9531 - Chamfer: 3.4351e-04 - Curvature: 5.1697e-08 - Collision: 0.0000e+00 - Pinch: 4.6466e-04\n",
      "Epoch 173 | Losses - Direction: -0.9495 - Chamfer: 3.6134e-04 - Curvature: 5.0973e-08 - Collision: 0.0000e+00 - Pinch: 4.3998e-04\n",
      "Epoch 174 | Losses - Direction: -0.9514 - Chamfer: 3.3229e-04 - Curvature: 5.4404e-08 - Collision: 0.0000e+00 - Pinch: 5.7578e-04\n",
      "Epoch 175 | Losses - Direction: -0.9526 - Chamfer: 3.5325e-04 - Curvature: 5.0097e-08 - Collision: 0.0000e+00 - Pinch: 6.1899e-04\n",
      "Epoch 176 | Losses - Direction: -0.9546 - Chamfer: 3.5637e-04 - Curvature: 5.2288e-08 - Collision: 0.0000e+00 - Pinch: 5.3666e-04\n",
      "Epoch 177 | Losses - Direction: -0.9514 - Chamfer: 3.7476e-04 - Curvature: 5.0801e-08 - Collision: 0.0000e+00 - Pinch: 8.1284e-04\n",
      "Epoch 178 | Losses - Direction: -0.9528 - Chamfer: 3.5985e-04 - Curvature: 4.7230e-08 - Collision: 0.0000e+00 - Pinch: 6.2629e-04\n",
      "Epoch 179 | Losses - Direction: -0.9511 - Chamfer: 3.5350e-04 - Curvature: 5.4003e-08 - Collision: 0.0000e+00 - Pinch: 5.8709e-04\n",
      "Epoch 180 | Losses - Direction: -0.9517 - Chamfer: 3.5815e-04 - Curvature: 4.9348e-08 - Collision: 0.0000e+00 - Pinch: 8.2420e-04\n",
      "Epoch 181 | Losses - Direction: -0.9527 - Chamfer: 3.5649e-04 - Curvature: 4.9797e-08 - Collision: 0.0000e+00 - Pinch: 9.6999e-04\n",
      "Epoch 182 | Losses - Direction: -0.9506 - Chamfer: 3.5465e-04 - Curvature: 4.9431e-08 - Collision: 0.0000e+00 - Pinch: 5.7093e-04\n",
      "Epoch 183 | Losses - Direction: -0.9550 - Chamfer: 3.5988e-04 - Curvature: 5.1030e-08 - Collision: 0.0000e+00 - Pinch: 6.7409e-04\n",
      "Epoch 184 | Losses - Direction: -0.9488 - Chamfer: 3.5271e-04 - Curvature: 5.3748e-08 - Collision: 0.0000e+00 - Pinch: 5.9632e-04\n",
      "Epoch 185 | Losses - Direction: -0.9513 - Chamfer: 3.5550e-04 - Curvature: 5.5249e-08 - Collision: 0.0000e+00 - Pinch: 5.4591e-04\n",
      "Epoch 186 | Losses - Direction: -0.9534 - Chamfer: 3.5284e-04 - Curvature: 5.1274e-08 - Collision: 0.0000e+00 - Pinch: 5.0403e-04\n",
      "Epoch 187 | Losses - Direction: -0.9504 - Chamfer: 3.5463e-04 - Curvature: 5.3684e-08 - Collision: 0.0000e+00 - Pinch: 5.7416e-04\n",
      "Epoch 188 | Losses - Direction: -0.9532 - Chamfer: 3.5312e-04 - Curvature: 5.2941e-08 - Collision: 0.0000e+00 - Pinch: 6.2402e-04\n",
      "Epoch 189 | Losses - Direction: -0.9508 - Chamfer: 3.3454e-04 - Curvature: 5.3679e-08 - Collision: 0.0000e+00 - Pinch: 5.3975e-04\n",
      "Epoch 190 | Losses - Direction: -0.9489 - Chamfer: 3.4800e-04 - Curvature: 5.9240e-08 - Collision: 0.0000e+00 - Pinch: 9.2318e-04\n",
      "Epoch 191 | Losses - Direction: -0.9511 - Chamfer: 3.4710e-04 - Curvature: 5.1568e-08 - Collision: 0.0000e+00 - Pinch: 5.5802e-04\n",
      "Epoch 192 | Losses - Direction: -0.9548 - Chamfer: 3.6836e-04 - Curvature: 5.1633e-08 - Collision: 0.0000e+00 - Pinch: 5.2680e-04\n",
      "Epoch 193 | Losses - Direction: -0.9507 - Chamfer: 3.5353e-04 - Curvature: 5.7827e-08 - Collision: 0.0000e+00 - Pinch: 5.2388e-04\n",
      "Epoch 194 | Losses - Direction: -0.9509 - Chamfer: 3.5356e-04 - Curvature: 5.7144e-08 - Collision: 0.0000e+00 - Pinch: 4.2780e-04\n",
      "Epoch 195 | Losses - Direction: -0.9506 - Chamfer: 3.5996e-04 - Curvature: 5.3166e-08 - Collision: 0.0000e+00 - Pinch: 4.2865e-04\n",
      "Epoch 196 | Losses - Direction: -0.9514 - Chamfer: 3.3986e-04 - Curvature: 4.9654e-08 - Collision: 0.0000e+00 - Pinch: 5.2174e-04\n",
      "Epoch 197 | Losses - Direction: -0.9494 - Chamfer: 3.5770e-04 - Curvature: 5.4616e-08 - Collision: 0.0000e+00 - Pinch: 4.5507e-04\n",
      "Epoch 198 | Losses - Direction: -0.9492 - Chamfer: 3.4021e-04 - Curvature: 6.0780e-08 - Collision: 0.0000e+00 - Pinch: 8.4086e-04\n",
      "Epoch 199 | Losses - Direction: -0.9537 - Chamfer: 3.5131e-04 - Curvature: 5.2587e-08 - Collision: 0.0000e+00 - Pinch: 6.1175e-04\n"
     ]
    }
   ],
   "source": [
    "# !cd ../ && python ./geort/trainer.py -hand kistar_right -human_data human_LYS_right -ckpt_tag geort_LYS_right\n",
    "!python ./geort/trainer.py -hand kistar_right -human_data human_LYS_right -ckpt_tag geort_LYS_right_kistar --w_pinch 50 --w_curvature 0.1\n",
    "# !python ../geort/trainer.py -hand allegro_right -human_data human_LYS_right -ckpt_tag geort_LYS_right_allegro"
   ]
  },
  {
   "cell_type": "code",
   "execution_count": null,
   "id": "f6c25cb6-808b-4f34-a4e6-6593ab6222f7",
   "metadata": {
    "scrolled": true
   },
   "outputs": [],
   "source": [
    "# !cd ../ && python ./geort/mocap/replay_evaluation.py -hand kistar_right -ckpt_tag geort_LYS_right -data human_LYS_right\n",
    "!python ./geort/mocap/replay_evaluation.py -hand kistar_right -ckpt_tag geort_LYS_right_kistar -data human_LYS_right"
   ]
  },
  {
   "cell_type": "markdown",
   "id": "32def4c0-1293-46f8-9e8f-1fef6cca1914",
   "metadata": {},
   "source": [
    "# Run"
   ]
  },
  {
   "cell_type": "code",
   "execution_count": 6,
   "id": "bf85a570-a42a-4afe-b8aa-906c07256646",
   "metadata": {},
   "outputs": [],
   "source": [
    "from geort.env.hand import HandKinematicModel"
   ]
  },
  {
   "cell_type": "code",
   "execution_count": 7,
   "id": "21ffd7f7-7205-4b0e-a340-9b1e8eb445fb",
   "metadata": {
    "scrolled": true
   },
   "outputs": [
    {
     "name": "stdout",
     "output_type": "stream",
     "text": [
      "[[4, 5, 6, 7], [8, 9, 10, 11], [12, 13, 14, 15], [0, 1, 2, 3]]\n"
     ]
    },
    {
     "name": "stderr",
     "output_type": "stream",
     "text": [
      "/home/rnbmarch/Desktop/LYS/GeoRT/geort/export.py:27: FutureWarning: You are using `torch.load` with `weights_only=False` (the current default value), which uses the default pickle module implicitly. It is possible to construct malicious pickle data which will execute arbitrary code during unpickling (See https://github.com/pytorch/pytorch/blob/main/SECURITY.md#untrusted-models for more details). In a future release, the default value for `weights_only` will be flipped to `True`. This limits the functions that could be executed during unpickling. Arbitrary objects will no longer be allowed to be loaded via this mode unless they are explicitly allowlisted by the user via `torch.serialization.add_safe_globals`. We recommend you start setting `weights_only=True` for any use case where you don't have full control of the loaded file. Please open an issue on GitHub for any issues related to this experimental feature.\n",
      "  self.model.load_state_dict(torch.load(model_path))\n",
      "/home/rnbmarch/anaconda3/envs/geort/lib/python3.10/site-packages/sapien/core/__init__.py:23: UserWarning: VulkanRenderer is renamed SapienRenderer now\n",
      "  warn(\"VulkanRenderer is renamed SapienRenderer now\")\n"
     ]
    },
    {
     "name": "stdout",
     "output_type": "stream",
     "text": [
      "Enable Render Mode.\n",
      "User-to-Sim Joint [0, 1, 2, 3, 4, 5, 6, 7, 8, 9, 10, 11, 12, 13, 14, 15]\n",
      "Sim-to-User Joint [0, 1, 2, 3, 4, 5, 6, 7, 8, 9, 10, 11, 12, 13, 14, 15]\n",
      "[ 0.       -1.5708    0.        0.       -0.261799  0.        0.\n",
      "  0.       -0.261799  0.        0.        0.       -0.08      0.\n",
      "  0.        0.      ] [1.5708   0.15708  1.5708   1.5708   0.08     1.5708   1.5708   1.5708\n",
      " 0.261799 1.5708   1.5708   1.5708   0.261799 1.5708   1.5708   1.5708  ]\n",
      "0 thumb_joint_0 <sapien.core.pysapien.Joint object at 0x73799d1274f0> 0.0 1.5708\n",
      "1 thumb_joint_1 <sapien.core.pysapien.Joint object at 0x7379950fde70> -1.5708 0.15708\n",
      "2 thumb_joint_2 <sapien.core.pysapien.Joint object at 0x7379950fdf30> 0.0 1.5708\n",
      "3 thumb_joint_3 <sapien.core.pysapien.Joint object at 0x7379950fdff0> 0.0 1.5708\n",
      "4 index_joint_0 <sapien.core.pysapien.Joint object at 0x7379950fddb0> -0.261799 0.08\n",
      "5 index_joint_1 <sapien.core.pysapien.Joint object at 0x7379950fde30> 0.0 1.5708\n",
      "6 index_joint_2 <sapien.core.pysapien.Joint object at 0x7379950fe030> 0.0 1.5708\n",
      "7 index_joint_3 <sapien.core.pysapien.Joint object at 0x7379950fdf70> 0.0 1.5708\n",
      "8 middle_joint_0 <sapien.core.pysapien.Joint object at 0x7379950fe1b0> -0.261799 0.261799\n",
      "9 middle_joint_1 <sapien.core.pysapien.Joint object at 0x7379950fe1f0> 0.0 1.5708\n",
      "10 middle_joint_2 <sapien.core.pysapien.Joint object at 0x7379950fe230> 0.0 1.5708\n",
      "11 middle_joint_3 <sapien.core.pysapien.Joint object at 0x7379950fe370> 0.0 1.5708\n",
      "12 ring_joint_0 <sapien.core.pysapien.Joint object at 0x7379950fe270> -0.08 0.261799\n",
      "13 ring_joint_1 <sapien.core.pysapien.Joint object at 0x7379950fe130> 0.0 1.5708\n",
      "14 ring_joint_2 <sapien.core.pysapien.Joint object at 0x7379950fda70> 0.0 1.5708\n",
      "15 ring_joint_3 <sapien.core.pysapien.Joint object at 0x7379950fd330> 0.0 1.5708\n"
     ]
    },
    {
     "ename": "KeyboardInterrupt",
     "evalue": "",
     "output_type": "error",
     "traceback": [
      "\u001b[0;31m---------------------------------------------------------------------------\u001b[0m",
      "\u001b[0;31mKeyboardInterrupt\u001b[0m                         Traceback (most recent call last)",
      "Cell \u001b[0;32mIn[7], line 19\u001b[0m\n\u001b[1;32m     16\u001b[0m viewer_env\u001b[38;5;241m.\u001b[39mupdate()\n\u001b[1;32m     18\u001b[0m steps \u001b[38;5;241m+\u001b[39m\u001b[38;5;241m=\u001b[39m \u001b[38;5;241m1\u001b[39m\n\u001b[0;32m---> 19\u001b[0m qpos \u001b[38;5;241m=\u001b[39m \u001b[43mmodel\u001b[49m\u001b[38;5;241;43m.\u001b[39;49m\u001b[43mforward\u001b[49m\u001b[43m(\u001b[49m\u001b[43mmocap\u001b[49m\u001b[38;5;241;43m.\u001b[39;49m\u001b[43mget\u001b[49m\u001b[43m(\u001b[49m\u001b[43m)\u001b[49m\u001b[43m)\u001b[49m \u001b[38;5;66;03m# This is the retargeted qpos. \u001b[39;00m\n\u001b[1;32m     20\u001b[0m                                   \u001b[38;5;66;03m# (Note: unnormalized joint angle)\u001b[39;00m\n\u001b[1;32m     21\u001b[0m hand_model\u001b[38;5;241m.\u001b[39mset_qpos_target(qpos)\n",
      "File \u001b[0;32m~/Desktop/LYS/GeoRT/geort/export.py:34\u001b[0m, in \u001b[0;36mGeoRTRetargetingModel.forward\u001b[0;34m(self, keypoints)\u001b[0m\n\u001b[1;32m     31\u001b[0m \u001b[38;5;28;01mdef\u001b[39;00m \u001b[38;5;21mforward\u001b[39m(\u001b[38;5;28mself\u001b[39m, keypoints):\n\u001b[1;32m     32\u001b[0m     \u001b[38;5;66;03m# keypoints: [N, 3]\u001b[39;00m\n\u001b[1;32m     33\u001b[0m     keypoints \u001b[38;5;241m=\u001b[39m keypoints[\u001b[38;5;28mself\u001b[39m\u001b[38;5;241m.\u001b[39mhuman_ids] \u001b[38;5;66;03m# extract.\u001b[39;00m\n\u001b[0;32m---> 34\u001b[0m     joint_normalized \u001b[38;5;241m=\u001b[39m \u001b[38;5;28;43mself\u001b[39;49m\u001b[38;5;241;43m.\u001b[39;49m\u001b[43mmodel\u001b[49m\u001b[38;5;241;43m.\u001b[39;49m\u001b[43mforward\u001b[49m\u001b[43m(\u001b[49m\u001b[43mtorch\u001b[49m\u001b[38;5;241;43m.\u001b[39;49m\u001b[43mfrom_numpy\u001b[49m\u001b[43m(\u001b[49m\u001b[43mkeypoints\u001b[49m\u001b[43m)\u001b[49m\u001b[38;5;241;43m.\u001b[39;49m\u001b[43munsqueeze\u001b[49m\u001b[43m(\u001b[49m\u001b[38;5;241;43m0\u001b[39;49m\u001b[43m)\u001b[49m\u001b[38;5;241;43m.\u001b[39;49m\u001b[43mreshape\u001b[49m\u001b[43m(\u001b[49m\u001b[38;5;241;43m1\u001b[39;49m\u001b[43m,\u001b[49m\u001b[43m \u001b[49m\u001b[38;5;241;43m-\u001b[39;49m\u001b[38;5;241;43m1\u001b[39;49m\u001b[43m,\u001b[49m\u001b[43m \u001b[49m\u001b[38;5;241;43m3\u001b[39;49m\u001b[43m)\u001b[49m\u001b[38;5;241;43m.\u001b[39;49m\u001b[43mfloat\u001b[49m\u001b[43m(\u001b[49m\u001b[43m)\u001b[49m\u001b[38;5;241;43m.\u001b[39;49m\u001b[43mcuda\u001b[49m\u001b[43m(\u001b[49m\u001b[43m)\u001b[49m\u001b[43m)\u001b[49m\n\u001b[1;32m     35\u001b[0m     joint_raw \u001b[38;5;241m=\u001b[39m \u001b[38;5;28mself\u001b[39m\u001b[38;5;241m.\u001b[39mqpos_normalizer\u001b[38;5;241m.\u001b[39munnormalize(joint_normalized\u001b[38;5;241m.\u001b[39mdetach()\u001b[38;5;241m.\u001b[39mcpu()\u001b[38;5;241m.\u001b[39mnumpy())\n\u001b[1;32m     36\u001b[0m     \u001b[38;5;28;01mreturn\u001b[39;00m joint_raw[\u001b[38;5;241m0\u001b[39m]\n",
      "File \u001b[0;32m~/Desktop/LYS/GeoRT/geort/model.py:91\u001b[0m, in \u001b[0;36mIKModel.forward\u001b[0;34m(self, x)\u001b[0m\n\u001b[1;32m     89\u001b[0m out \u001b[38;5;241m=\u001b[39m torch\u001b[38;5;241m.\u001b[39mzeros((batch_size, \u001b[38;5;28mself\u001b[39m\u001b[38;5;241m.\u001b[39mn_total_joint))\u001b[38;5;241m.\u001b[39mto(x\u001b[38;5;241m.\u001b[39mdevice)\n\u001b[1;32m     90\u001b[0m \u001b[38;5;28;01mfor\u001b[39;00m i \u001b[38;5;129;01min\u001b[39;00m \u001b[38;5;28mrange\u001b[39m(n_points):\n\u001b[0;32m---> 91\u001b[0m     joint \u001b[38;5;241m=\u001b[39m \u001b[38;5;28;43mself\u001b[39;49m\u001b[38;5;241;43m.\u001b[39;49m\u001b[43mnets\u001b[49m\u001b[43m[\u001b[49m\u001b[43mi\u001b[49m\u001b[43m]\u001b[49m\u001b[43m(\u001b[49m\u001b[43mx\u001b[49m\u001b[43m[\u001b[49m\u001b[43m:\u001b[49m\u001b[43m,\u001b[49m\u001b[43m \u001b[49m\u001b[43mi\u001b[49m\u001b[43m]\u001b[49m\u001b[43m)\u001b[49m\n\u001b[1;32m     92\u001b[0m     out[:, \u001b[38;5;28mself\u001b[39m\u001b[38;5;241m.\u001b[39mkeypoint_joints[i]] \u001b[38;5;241m=\u001b[39m joint \n\u001b[1;32m     93\u001b[0m \u001b[38;5;28;01mreturn\u001b[39;00m out\n",
      "File \u001b[0;32m~/anaconda3/envs/geort/lib/python3.10/site-packages/torch/nn/modules/module.py:1736\u001b[0m, in \u001b[0;36mModule._wrapped_call_impl\u001b[0;34m(self, *args, **kwargs)\u001b[0m\n\u001b[1;32m   1734\u001b[0m     \u001b[38;5;28;01mreturn\u001b[39;00m \u001b[38;5;28mself\u001b[39m\u001b[38;5;241m.\u001b[39m_compiled_call_impl(\u001b[38;5;241m*\u001b[39margs, \u001b[38;5;241m*\u001b[39m\u001b[38;5;241m*\u001b[39mkwargs)  \u001b[38;5;66;03m# type: ignore[misc]\u001b[39;00m\n\u001b[1;32m   1735\u001b[0m \u001b[38;5;28;01melse\u001b[39;00m:\n\u001b[0;32m-> 1736\u001b[0m     \u001b[38;5;28;01mreturn\u001b[39;00m \u001b[38;5;28;43mself\u001b[39;49m\u001b[38;5;241;43m.\u001b[39;49m\u001b[43m_call_impl\u001b[49m\u001b[43m(\u001b[49m\u001b[38;5;241;43m*\u001b[39;49m\u001b[43margs\u001b[49m\u001b[43m,\u001b[49m\u001b[43m \u001b[49m\u001b[38;5;241;43m*\u001b[39;49m\u001b[38;5;241;43m*\u001b[39;49m\u001b[43mkwargs\u001b[49m\u001b[43m)\u001b[49m\n",
      "File \u001b[0;32m~/anaconda3/envs/geort/lib/python3.10/site-packages/torch/nn/modules/module.py:1747\u001b[0m, in \u001b[0;36mModule._call_impl\u001b[0;34m(self, *args, **kwargs)\u001b[0m\n\u001b[1;32m   1742\u001b[0m \u001b[38;5;66;03m# If we don't have any hooks, we want to skip the rest of the logic in\u001b[39;00m\n\u001b[1;32m   1743\u001b[0m \u001b[38;5;66;03m# this function, and just call forward.\u001b[39;00m\n\u001b[1;32m   1744\u001b[0m \u001b[38;5;28;01mif\u001b[39;00m \u001b[38;5;129;01mnot\u001b[39;00m (\u001b[38;5;28mself\u001b[39m\u001b[38;5;241m.\u001b[39m_backward_hooks \u001b[38;5;129;01mor\u001b[39;00m \u001b[38;5;28mself\u001b[39m\u001b[38;5;241m.\u001b[39m_backward_pre_hooks \u001b[38;5;129;01mor\u001b[39;00m \u001b[38;5;28mself\u001b[39m\u001b[38;5;241m.\u001b[39m_forward_hooks \u001b[38;5;129;01mor\u001b[39;00m \u001b[38;5;28mself\u001b[39m\u001b[38;5;241m.\u001b[39m_forward_pre_hooks\n\u001b[1;32m   1745\u001b[0m         \u001b[38;5;129;01mor\u001b[39;00m _global_backward_pre_hooks \u001b[38;5;129;01mor\u001b[39;00m _global_backward_hooks\n\u001b[1;32m   1746\u001b[0m         \u001b[38;5;129;01mor\u001b[39;00m _global_forward_hooks \u001b[38;5;129;01mor\u001b[39;00m _global_forward_pre_hooks):\n\u001b[0;32m-> 1747\u001b[0m     \u001b[38;5;28;01mreturn\u001b[39;00m \u001b[43mforward_call\u001b[49m\u001b[43m(\u001b[49m\u001b[38;5;241;43m*\u001b[39;49m\u001b[43margs\u001b[49m\u001b[43m,\u001b[49m\u001b[43m \u001b[49m\u001b[38;5;241;43m*\u001b[39;49m\u001b[38;5;241;43m*\u001b[39;49m\u001b[43mkwargs\u001b[49m\u001b[43m)\u001b[49m\n\u001b[1;32m   1749\u001b[0m result \u001b[38;5;241m=\u001b[39m \u001b[38;5;28;01mNone\u001b[39;00m\n\u001b[1;32m   1750\u001b[0m called_always_called_hooks \u001b[38;5;241m=\u001b[39m \u001b[38;5;28mset\u001b[39m()\n",
      "File \u001b[0;32m~/anaconda3/envs/geort/lib/python3.10/site-packages/torch/nn/modules/container.py:250\u001b[0m, in \u001b[0;36mSequential.forward\u001b[0;34m(self, input)\u001b[0m\n\u001b[1;32m    248\u001b[0m \u001b[38;5;28;01mdef\u001b[39;00m \u001b[38;5;21mforward\u001b[39m(\u001b[38;5;28mself\u001b[39m, \u001b[38;5;28minput\u001b[39m):\n\u001b[1;32m    249\u001b[0m     \u001b[38;5;28;01mfor\u001b[39;00m module \u001b[38;5;129;01min\u001b[39;00m \u001b[38;5;28mself\u001b[39m:\n\u001b[0;32m--> 250\u001b[0m         \u001b[38;5;28minput\u001b[39m \u001b[38;5;241m=\u001b[39m \u001b[43mmodule\u001b[49m\u001b[43m(\u001b[49m\u001b[38;5;28;43minput\u001b[39;49m\u001b[43m)\u001b[49m\n\u001b[1;32m    251\u001b[0m     \u001b[38;5;28;01mreturn\u001b[39;00m \u001b[38;5;28minput\u001b[39m\n",
      "File \u001b[0;32m~/anaconda3/envs/geort/lib/python3.10/site-packages/torch/nn/modules/module.py:1736\u001b[0m, in \u001b[0;36mModule._wrapped_call_impl\u001b[0;34m(self, *args, **kwargs)\u001b[0m\n\u001b[1;32m   1734\u001b[0m     \u001b[38;5;28;01mreturn\u001b[39;00m \u001b[38;5;28mself\u001b[39m\u001b[38;5;241m.\u001b[39m_compiled_call_impl(\u001b[38;5;241m*\u001b[39margs, \u001b[38;5;241m*\u001b[39m\u001b[38;5;241m*\u001b[39mkwargs)  \u001b[38;5;66;03m# type: ignore[misc]\u001b[39;00m\n\u001b[1;32m   1735\u001b[0m \u001b[38;5;28;01melse\u001b[39;00m:\n\u001b[0;32m-> 1736\u001b[0m     \u001b[38;5;28;01mreturn\u001b[39;00m \u001b[38;5;28;43mself\u001b[39;49m\u001b[38;5;241;43m.\u001b[39;49m\u001b[43m_call_impl\u001b[49m\u001b[43m(\u001b[49m\u001b[38;5;241;43m*\u001b[39;49m\u001b[43margs\u001b[49m\u001b[43m,\u001b[49m\u001b[43m \u001b[49m\u001b[38;5;241;43m*\u001b[39;49m\u001b[38;5;241;43m*\u001b[39;49m\u001b[43mkwargs\u001b[49m\u001b[43m)\u001b[49m\n",
      "File \u001b[0;32m~/anaconda3/envs/geort/lib/python3.10/site-packages/torch/nn/modules/module.py:1747\u001b[0m, in \u001b[0;36mModule._call_impl\u001b[0;34m(self, *args, **kwargs)\u001b[0m\n\u001b[1;32m   1742\u001b[0m \u001b[38;5;66;03m# If we don't have any hooks, we want to skip the rest of the logic in\u001b[39;00m\n\u001b[1;32m   1743\u001b[0m \u001b[38;5;66;03m# this function, and just call forward.\u001b[39;00m\n\u001b[1;32m   1744\u001b[0m \u001b[38;5;28;01mif\u001b[39;00m \u001b[38;5;129;01mnot\u001b[39;00m (\u001b[38;5;28mself\u001b[39m\u001b[38;5;241m.\u001b[39m_backward_hooks \u001b[38;5;129;01mor\u001b[39;00m \u001b[38;5;28mself\u001b[39m\u001b[38;5;241m.\u001b[39m_backward_pre_hooks \u001b[38;5;129;01mor\u001b[39;00m \u001b[38;5;28mself\u001b[39m\u001b[38;5;241m.\u001b[39m_forward_hooks \u001b[38;5;129;01mor\u001b[39;00m \u001b[38;5;28mself\u001b[39m\u001b[38;5;241m.\u001b[39m_forward_pre_hooks\n\u001b[1;32m   1745\u001b[0m         \u001b[38;5;129;01mor\u001b[39;00m _global_backward_pre_hooks \u001b[38;5;129;01mor\u001b[39;00m _global_backward_hooks\n\u001b[1;32m   1746\u001b[0m         \u001b[38;5;129;01mor\u001b[39;00m _global_forward_hooks \u001b[38;5;129;01mor\u001b[39;00m _global_forward_pre_hooks):\n\u001b[0;32m-> 1747\u001b[0m     \u001b[38;5;28;01mreturn\u001b[39;00m \u001b[43mforward_call\u001b[49m\u001b[43m(\u001b[49m\u001b[38;5;241;43m*\u001b[39;49m\u001b[43margs\u001b[49m\u001b[43m,\u001b[49m\u001b[43m \u001b[49m\u001b[38;5;241;43m*\u001b[39;49m\u001b[38;5;241;43m*\u001b[39;49m\u001b[43mkwargs\u001b[49m\u001b[43m)\u001b[49m\n\u001b[1;32m   1749\u001b[0m result \u001b[38;5;241m=\u001b[39m \u001b[38;5;28;01mNone\u001b[39;00m\n\u001b[1;32m   1750\u001b[0m called_always_called_hooks \u001b[38;5;241m=\u001b[39m \u001b[38;5;28mset\u001b[39m()\n",
      "File \u001b[0;32m~/anaconda3/envs/geort/lib/python3.10/site-packages/torch/nn/modules/linear.py:125\u001b[0m, in \u001b[0;36mLinear.forward\u001b[0;34m(self, input)\u001b[0m\n\u001b[1;32m    124\u001b[0m \u001b[38;5;28;01mdef\u001b[39;00m \u001b[38;5;21mforward\u001b[39m(\u001b[38;5;28mself\u001b[39m, \u001b[38;5;28minput\u001b[39m: Tensor) \u001b[38;5;241m-\u001b[39m\u001b[38;5;241m>\u001b[39m Tensor:\n\u001b[0;32m--> 125\u001b[0m     \u001b[38;5;28;01mreturn\u001b[39;00m \u001b[43mF\u001b[49m\u001b[38;5;241;43m.\u001b[39;49m\u001b[43mlinear\u001b[49m\u001b[43m(\u001b[49m\u001b[38;5;28;43minput\u001b[39;49m\u001b[43m,\u001b[49m\u001b[43m \u001b[49m\u001b[38;5;28;43mself\u001b[39;49m\u001b[38;5;241;43m.\u001b[39;49m\u001b[43mweight\u001b[49m\u001b[43m,\u001b[49m\u001b[43m \u001b[49m\u001b[38;5;28;43mself\u001b[39;49m\u001b[38;5;241;43m.\u001b[39;49m\u001b[43mbias\u001b[49m\u001b[43m)\u001b[49m\n",
      "\u001b[0;31mKeyboardInterrupt\u001b[0m: "
     ]
    }
   ],
   "source": [
    "checkpoint_tag = 'geort_LYS_right_kistar'          # TODO: your checkpoint name, assume it is 'TAG'\n",
    "model = geort.load_model(checkpoint_tag, epoch=-1)  # set epoch=-1 to use the last model.\n",
    "\n",
    "# Load Hand Model\n",
    "hand_name = 'kistar_right'\n",
    "config = geort.utils.config_utils.get_config(hand_name)\n",
    "hand_model = HandKinematicModel.build_from_config(config, render=True)\n",
    "viewer_env = hand_model.get_viewer_env()\n",
    "\n",
    "steps = 0\n",
    "while True:\n",
    "    viewer_env.update()\n",
    "\n",
    "    steps += 1\n",
    "    qpos = model.forward(mocap.get()) # This is the retargeted qpos. \n",
    "                                      # (Note: unnormalized joint angle)\n",
    "    hand_model.set_qpos_target(qpos)"
   ]
  },
  {
   "cell_type": "code",
   "execution_count": null,
   "id": "6fd0360b-bddb-4d02-beca-e3b2ac773270",
   "metadata": {},
   "outputs": [],
   "source": []
  },
  {
   "cell_type": "code",
   "execution_count": null,
   "id": "b169dba6-57a4-465f-8e7c-21cb558dba95",
   "metadata": {},
   "outputs": [],
   "source": []
  },
  {
   "cell_type": "code",
   "execution_count": null,
   "id": "dbb437e1-2a4b-48c8-b451-c3c898a0b768",
   "metadata": {},
   "outputs": [],
   "source": []
  },
  {
   "cell_type": "code",
   "execution_count": null,
   "id": "23355638-1d4e-4b65-8242-637254adcab7",
   "metadata": {},
   "outputs": [],
   "source": []
  },
  {
   "cell_type": "code",
   "execution_count": null,
   "id": "c809faf7-8239-43ae-bb83-ccc67c53697b",
   "metadata": {},
   "outputs": [],
   "source": []
  },
  {
   "cell_type": "code",
   "execution_count": null,
   "id": "07d938a6-b2a6-4857-8a7c-4e26e26e5a1e",
   "metadata": {},
   "outputs": [],
   "source": []
  },
  {
   "cell_type": "code",
   "execution_count": null,
   "id": "0a50dfc0-6e3a-4bcf-b325-e72168cca066",
   "metadata": {
    "scrolled": true
   },
   "outputs": [],
   "source": [
    "data_plot = np.array(np.load(\"./data/human_LYS_right.npy\"))\n",
    "\n",
    "fig = plt.figure(figsize=(8, 8))\n",
    "ax = fig.add_subplot(projection='3d')\n",
    "\n",
    "ax.scatter(data_plot[:,4,0], data_plot[:,4,1], data_plot[:,4,2], s=0.1, c='k', alpha=0.5)\n",
    "ax.scatter(data_plot[:,9,0], data_plot[:,9,1], data_plot[:,9,2], s=0.1, c='r', alpha=0.5)\n",
    "ax.scatter(data_plot[:,14,0], data_plot[:,14,1], data_plot[:,14,2], s=0.1, c='g', alpha=0.5)\n",
    "ax.scatter(data_plot[:,19,0], data_plot[:,19,1], data_plot[:,19,2], s=0.1, c='b', alpha=0.5)\n",
    "\n",
    "ax.axis('equal')\n",
    "ax.view_init(elev=15, azim=45) \n",
    "ax.set_xlabel('X Label')\n",
    "ax.set_ylabel('Y Label')\n",
    "ax.set_zlabel('Z Label')\n",
    "\n",
    "plt.show()"
   ]
  },
  {
   "cell_type": "code",
   "execution_count": null,
   "id": "fa5100c7-d3fe-4b03-a3c8-1f45a6f1bc6a",
   "metadata": {},
   "outputs": [],
   "source": [
    "from geort.trainer import GeoRTTrainer\n",
    "\n",
    "hand_name = 'kistar_right'\n",
    "config = geort.utils.config_utils.get_config(hand_name)\n",
    "\n",
    "trainer = GeoRTTrainer(config)\n",
    "fk_dataset = trainer.get_robot_kinematics_dataset()\n",
    "\n",
    "fig = plt.figure(figsize=(8, 8))\n",
    "ax = fig.add_subplot(projection='3d')\n",
    "\n",
    "thumb_data = fk_dataset.export_robot_pointcloud(['thumb_tip_end'])[0][::5,:]\n",
    "index_data = fk_dataset.export_robot_pointcloud(['index_tip_end'])[0][::5,:]\n",
    "middle_data = fk_dataset.export_robot_pointcloud(['middle_tip_end'])[0][::5,:]\n",
    "ring_data = fk_dataset.export_robot_pointcloud(['ring_tip_end'])[0][::5,:]\n",
    "\n",
    "ax.scatter(thumb_data[:,0], thumb_data[:,1], thumb_data[:,2], s=0.1, c='k', alpha=0.5)\n",
    "ax.scatter(index_data[:,0], index_data[:,1], index_data[:,2], s=0.1, c='r', alpha=0.5)\n",
    "ax.scatter(middle_data[:,0], middle_data[:,1], middle_data[:,2], s=0.1, c='g', alpha=0.5)\n",
    "ax.scatter(ring_data[:,0], ring_data[:,1], ring_data[:,2], s=0.1, c='b', alpha=0.5)\n",
    "\n",
    "ax.axis('equal')\n",
    "ax.view_init(elev=15, azim=45) \n",
    "ax.set_xlabel('X Label')\n",
    "ax.set_ylabel('Y Label')\n",
    "ax.set_zlabel('Z Label')\n",
    "\n",
    "plt.show()"
   ]
  },
  {
   "cell_type": "code",
   "execution_count": null,
   "id": "8795e66e-3223-4688-ba8a-5b664a0cf3c3",
   "metadata": {},
   "outputs": [],
   "source": [
    "import pybullet as p\n",
    "\n",
    "p.connect(p.GUI)\n",
    "p.configureDebugVisualizer(p.COV_ENABLE_GUI, 0)\n",
    "p.configureDebugVisualizer(p.COV_ENABLE_SHADOWS, 1)\n",
    "p.configureDebugVisualizer(p.COV_ENABLE_RGB_BUFFER_PREVIEW, 0)\n",
    "p.configureDebugVisualizer(p.COV_ENABLE_DEPTH_BUFFER_PREVIEW, 0)\n",
    "p.configureDebugVisualizer(p.COV_ENABLE_SEGMENTATION_MARK_PREVIEW, 0)\n",
    "\n",
    "p.setPhysicsEngineParameter(enableFileCaching=0)\n",
    "p.resetDebugVisualizerCamera(cameraDistance=0.4, cameraYaw=145, cameraPitch=-30, cameraTargetPosition=[0, 0, 0])\n",
    "\n",
    "p.loadURDF(\"./assets/kistar_right/model.urdf\")"
   ]
  },
  {
   "cell_type": "code",
   "execution_count": null,
   "id": "120ba8e1-3441-4f1d-9c0c-af648716c18f",
   "metadata": {},
   "outputs": [],
   "source": [
    "p.addUserDebugPoints(pointPositions=thumb_data, pointColorsRGB=[(0,0,0)]*len(thumb_data), pointSize=1, lifeTime=5)\n",
    "p.addUserDebugPoints(pointPositions=index_data, pointColorsRGB=[(1,0,0)]*len(thumb_data), pointSize=1, lifeTime=5)\n",
    "p.addUserDebugPoints(pointPositions=middle_data, pointColorsRGB=[(0,1,0)]*len(thumb_data), pointSize=1, lifeTime=5)\n",
    "p.addUserDebugPoints(pointPositions=ring_data, pointColorsRGB=[(0,0,1)]*len(thumb_data), pointSize=1, lifeTime=5)"
   ]
  },
  {
   "cell_type": "code",
   "execution_count": null,
   "id": "3247d075-03c2-4bd7-a750-76bbf15eaa13",
   "metadata": {},
   "outputs": [],
   "source": [
    "p.disconnect()"
   ]
  }
 ],
 "metadata": {
  "kernelspec": {
   "display_name": "Python 3 (ipykernel)",
   "language": "python",
   "name": "python3"
  },
  "language_info": {
   "codemirror_mode": {
    "name": "ipython",
    "version": 3
   },
   "file_extension": ".py",
   "mimetype": "text/x-python",
   "name": "python",
   "nbconvert_exporter": "python",
   "pygments_lexer": "ipython3",
   "version": "3.10.18"
  }
 },
 "nbformat": 4,
 "nbformat_minor": 5
}
